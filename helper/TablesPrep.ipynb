{
 "cells": [
  {
   "cell_type": "code",
   "execution_count": 1,
   "id": "312c50a6",
   "metadata": {
    "scrolled": true
   },
   "outputs": [],
   "source": [
    "%load_ext autoreload\n",
    "%autoreload 2\n",
    "import warnings\n",
    "warnings.filterwarnings('ignore')"
   ]
  },
  {
   "cell_type": "code",
   "execution_count": 2,
   "id": "91c5e144",
   "metadata": {
    "scrolled": true
   },
   "outputs": [
    {
     "name": "stdout",
     "output_type": "stream",
     "text": [
      "The join was successfull...\n"
     ]
    },
    {
     "name": "stderr",
     "output_type": "stream",
     "text": [
      "L:\\Projects\\22005 - Housing Needs Assessment\\Processed\\HART_2024\\BC-HNA-Dashboard\\helper\\PrepareMasterData.py:92: SettingWithCopyWarning: \n",
      "A value is trying to be set on a copy of a slice from a DataFrame.\n",
      "Try using .loc[row_indexer,col_indexer] = value instead\n",
      "\n",
      "See the caveats in the documentation: https://pandas.pydata.org/pandas-docs/stable/user_guide/indexing.html#returning-a-view-versus-a-copy\n",
      "  final_df[('', 'Demand Factor', '')] = final_df[('', 'Demand Factor', '')].fillna(0)\n",
      "L:\\Projects\\22005 - Housing Needs Assessment\\Processed\\HART_2024\\BC-HNA-Dashboard\\helper\\PrepareMasterData.py:95: SettingWithCopyWarning: \n",
      "A value is trying to be set on a copy of a slice from a DataFrame.\n",
      "Try using .loc[row_indexer,col_indexer] = value instead\n",
      "\n",
      "See the caveats in the documentation: https://pandas.pydata.org/pandas-docs/stable/user_guide/indexing.html#returning-a-view-versus-a-copy\n",
      "  final_df['Homelessness_Filled'] = final_df[homelessness_column]\n",
      "L:\\Projects\\22005 - Housing Needs Assessment\\Processed\\HART_2024\\BC-HNA-Dashboard\\helper\\PrepareMasterData.py:97: SettingWithCopyWarning: \n",
      "A value is trying to be set on a copy of a slice from a DataFrame.\n",
      "Try using .loc[row_indexer,col_indexer] = value instead\n",
      "\n",
      "See the caveats in the documentation: https://pandas.pydata.org/pandas-docs/stable/user_guide/indexing.html#returning-a-view-versus-a-copy\n",
      "  final_df['Homelessness_Filled'] = final_df.groupby([('', 'CD_ID', '')])['Homelessness_Filled'].transform(lambda x: x.fillna(method='ffill').fillna(method='bfill'))\n",
      "L:\\Projects\\22005 - Housing Needs Assessment\\Processed\\HART_2024\\BC-HNA-Dashboard\\helper\\PrepareMasterData.py:98: SettingWithCopyWarning: \n",
      "A value is trying to be set on a copy of a slice from a DataFrame.\n",
      "Try using .loc[row_indexer,col_indexer] = value instead\n",
      "\n",
      "See the caveats in the documentation: https://pandas.pydata.org/pandas-docs/stable/user_guide/indexing.html#returning-a-view-versus-a-copy\n",
      "  final_df[homelessness_column] = final_df['Homelessness_Filled'].fillna(0)\n",
      "L:\\Projects\\22005 - Housing Needs Assessment\\Processed\\HART_2024\\BC-HNA-Dashboard\\helper\\PrepareMasterData.py:99: PerformanceWarning: dropping on a non-lexsorted multi-index without a level parameter may impact performance.\n",
      "  final_df.drop(columns=['Homelessness_Filled'], inplace=True)\n",
      "L:\\Projects\\22005 - Housing Needs Assessment\\Processed\\HART_2024\\BC-HNA-Dashboard\\helper\\PrepareMasterData.py:99: SettingWithCopyWarning: \n",
      "A value is trying to be set on a copy of a slice from a DataFrame\n",
      "\n",
      "See the caveats in the documentation: https://pandas.pydata.org/pandas-docs/stable/user_guide/indexing.html#returning-a-view-versus-a-copy\n",
      "  final_df.drop(columns=['Homelessness_Filled'], inplace=True)\n"
     ]
    }
   ],
   "source": [
    "!python PrepareMasterData.py"
   ]
  },
  {
   "cell_type": "code",
   "execution_count": 2,
   "id": "9035cded",
   "metadata": {},
   "outputs": [],
   "source": [
    "\n",
    "master_csd_data = '..\\\\inputs\\\\BCData_LGeo_June2024_Master_20240715.xlsx'\n",
    "master_cd_data = '..\\\\inputs\\\\CD_Master_File_20240715.xlsx'\n",
    "formulas_data = '..\\\\inputs\\\\Formula_for_scripts.xlsx'\n",
    "db_path = '..\\\\sources\\\\new_hart.db'\n"
   ]
  },
  {
   "cell_type": "code",
   "execution_count": 3,
   "id": "9900a40c",
   "metadata": {
    "scrolled": true
   },
   "outputs": [
    {
     "name": "stdout",
     "output_type": "stream",
     "text": [
      "Preparing Table 4...\n",
      "Table 4 Successfully created...\n",
      "Preparing Table 4...\n",
      "Table 4 Successfully created...\n",
      "Preparing Table 5...\n",
      "Table 5 Successfully created...\n",
      "Preparing Table 6...\n",
      "Table 6 Successfully created...\n",
      "Preparing Table 7...\n",
      "Table 7 Successfully created...\n",
      "Preparing Table 7...\n",
      "Table 7 Successfully created...\n",
      "Preparing Table 8...\n",
      "Table 8 Successfully created...\n",
      "Preparing Table 9 and 10...\n",
      "Table 9 and 10 Successfully created...\n",
      "Preparing Table 9 and 10...\n",
      "Table 9 and 10 Successfully created...\n",
      "Preparing Table 11...\n",
      "Table 11 Successfully created...\n",
      "Preparing Table 12 and 13...\n",
      "Table 12 and 13 Successfully created...\n",
      "Preparing Table 12 and 13...\n",
      "Table 12 and 13 Successfully created...\n",
      "Preparing Table 14...\n",
      "Table 14 Successfully created...\n",
      "Preparing Table 15...\n",
      "Table 15 Successfully created...\n",
      "Preparing Table 16...\n",
      "Table 16 successfully created...\n",
      "Database ready....\n"
     ]
    }
   ],
   "source": [
    "# The following code uploads data to database\n",
    "from DBUploader import DBUploader\n",
    "uploader = DBUploader(master_csd_data, master_cd_data, formulas_data, db_path)\n",
    "uploader()\n"
   ]
  }
 ],
 "metadata": {
  "kernelspec": {
   "display_name": "Python 3 (ipykernel)",
   "language": "python",
   "name": "python3"
  },
  "language_info": {
   "codemirror_mode": {
    "name": "ipython",
    "version": 3
   },
   "file_extension": ".py",
   "mimetype": "text/x-python",
   "name": "python",
   "nbconvert_exporter": "python",
   "pygments_lexer": "ipython3",
   "version": "3.9.18"
  }
 },
 "nbformat": 4,
 "nbformat_minor": 5
}
